{
 "cells": [
  {
   "cell_type": "code",
   "execution_count": 1,
   "metadata": {
    "vscode": {
     "languageId": "r"
    }
   },
   "outputs": [
    {
     "name": "stderr",
     "output_type": "stream",
     "text": [
      "-- \u001b[1mAttaching core tidyverse packages\u001b[22m ------------------------ tidyverse 2.0.0 --\n",
      "\u001b[32mv\u001b[39m \u001b[34mdplyr    \u001b[39m 1.1.4     \u001b[32mv\u001b[39m \u001b[34mreadr    \u001b[39m 2.1.5\n",
      "\u001b[32mv\u001b[39m \u001b[34mforcats  \u001b[39m 1.0.0     \u001b[32mv\u001b[39m \u001b[34mstringr  \u001b[39m 1.5.1\n",
      "\u001b[32mv\u001b[39m \u001b[34mggplot2  \u001b[39m 3.5.0     \u001b[32mv\u001b[39m \u001b[34mtibble   \u001b[39m 3.2.1\n",
      "\u001b[32mv\u001b[39m \u001b[34mlubridate\u001b[39m 1.9.3     \u001b[32mv\u001b[39m \u001b[34mtidyr    \u001b[39m 1.3.1\n",
      "\u001b[32mv\u001b[39m \u001b[34mpurrr    \u001b[39m 1.0.2     \n",
      "-- \u001b[1mConflicts\u001b[22m ------------------------------------------ tidyverse_conflicts() --\n",
      "\u001b[31mx\u001b[39m \u001b[34mdplyr\u001b[39m::\u001b[32mfilter()\u001b[39m masks \u001b[34mstats\u001b[39m::filter()\n",
      "\u001b[31mx\u001b[39m \u001b[34mdplyr\u001b[39m::\u001b[32mlag()\u001b[39m    masks \u001b[34mstats\u001b[39m::lag()\n",
      "\u001b[36mi\u001b[39m Use the conflicted package (\u001b[3m\u001b[34m<http://conflicted.r-lib.org/>\u001b[39m\u001b[23m) to force all conflicts to become errors\n"
     ]
    }
   ],
   "source": [
    "library(tidyverse)"
   ]
  },
  {
   "cell_type": "code",
   "execution_count": 1,
   "id": "7a8ad7cc",
   "metadata": {
    "vscode": {
     "languageId": "r"
    }
   },
   "outputs": [
    {
     "data": {
      "text/html": [
       "<style>\n",
       ".list-inline {list-style: none; margin:0; padding: 0}\n",
       ".list-inline>li {display: inline-block}\n",
       ".list-inline>li:not(:last-child)::after {content: \"\\00b7\"; padding: 0 .5ex}\n",
       "</style>\n",
       "<ol class=list-inline><li>0.95</li><li>0.92</li><li>0.9</li></ol>\n"
      ],
      "text/latex": [
       "\\begin{enumerate*}\n",
       "\\item 0.95\n",
       "\\item 0.92\n",
       "\\item 0.9\n",
       "\\end{enumerate*}\n"
      ],
      "text/markdown": [
       "1. 0.95\n",
       "2. 0.92\n",
       "3. 0.9\n",
       "\n",
       "\n"
      ],
      "text/plain": [
       "[1] 0.95 0.92 0.90"
      ]
     },
     "metadata": {},
     "output_type": "display_data"
    }
   ],
   "source": [
    "probs <- c(0.95, 0.92, 0.9)\n",
    "probs"
   ]
  },
  {
   "cell_type": "code",
   "execution_count": 3,
   "id": "f250f01e",
   "metadata": {
    "vscode": {
     "languageId": "r"
    }
   },
   "outputs": [
    {
     "data": {
      "text/html": [
       "0.7866"
      ],
      "text/latex": [
       "0.7866"
      ],
      "text/markdown": [
       "0.7866"
      ],
      "text/plain": [
       "[1] 0.7866"
      ]
     },
     "metadata": {},
     "output_type": "display_data"
    }
   ],
   "source": [
    "prod(probs)"
   ]
  },
  {
   "cell_type": "code",
   "execution_count": 4,
   "id": "61e92e50",
   "metadata": {
    "vscode": {
     "languageId": "r"
    }
   },
   "outputs": [
    {
     "data": {
      "text/html": [
       "0.2134"
      ],
      "text/latex": [
       "0.2134"
      ],
      "text/markdown": [
       "0.2134"
      ],
      "text/plain": [
       "[1] 0.2134"
      ]
     },
     "metadata": {},
     "output_type": "display_data"
    }
   ],
   "source": [
    "1-prod(probs)"
   ]
  },
  {
   "cell_type": "code",
   "execution_count": 13,
   "id": "4a7552a7",
   "metadata": {
    "vscode": {
     "languageId": "r"
    }
   },
   "outputs": [
    {
     "data": {
      "text/html": [
       "<table class=\"dataframe\">\n",
       "<caption>A data.frame: 3 x 1</caption>\n",
       "<thead>\n",
       "\t<tr><th scope=col>niezawodnosc</th></tr>\n",
       "\t<tr><th scope=col>&lt;dbl&gt;</th></tr>\n",
       "</thead>\n",
       "<tbody>\n",
       "\t<tr><td>0.95</td></tr>\n",
       "\t<tr><td>0.92</td></tr>\n",
       "\t<tr><td>0.90</td></tr>\n",
       "</tbody>\n",
       "</table>\n"
      ],
      "text/latex": [
       "A data.frame: 3 x 1\n",
       "\\begin{tabular}{l}\n",
       " niezawodnosc\\\\\n",
       " <dbl>\\\\\n",
       "\\hline\n",
       "\t 0.95\\\\\n",
       "\t 0.92\\\\\n",
       "\t 0.90\\\\\n",
       "\\end{tabular}\n"
      ],
      "text/markdown": [
       "\n",
       "A data.frame: 3 x 1\n",
       "\n",
       "| niezawodnosc &lt;dbl&gt; |\n",
       "|---|\n",
       "| 0.95 |\n",
       "| 0.92 |\n",
       "| 0.90 |\n",
       "\n"
      ],
      "text/plain": [
       "  niezawodnosc\n",
       "1 0.95        \n",
       "2 0.92        \n",
       "3 0.90        "
      ]
     },
     "metadata": {},
     "output_type": "display_data"
    }
   ],
   "source": [
    "df <- data.frame(niezawodnosc = probs)\n",
    "df"
   ]
  },
  {
   "cell_type": "code",
   "execution_count": 12,
   "id": "65aa92ad",
   "metadata": {
    "vscode": {
     "languageId": "r"
    }
   },
   "outputs": [
    {
     "data": {
      "text/html": [
       "0.9996"
      ],
      "text/latex": [
       "0.9996"
      ],
      "text/markdown": [
       "0.9996"
      ],
      "text/plain": [
       "[1] 0.9996"
      ]
     },
     "metadata": {},
     "output_type": "display_data"
    }
   ],
   "source": [
    "1 - prod(1 - df$niezawodnosc)"
   ]
  },
  {
   "cell_type": "code",
   "execution_count": 14,
   "id": "29568866",
   "metadata": {
    "vscode": {
     "languageId": "r"
    }
   },
   "outputs": [
    {
     "data": {
      "text/html": [
       "<table class=\"dataframe\">\n",
       "<caption>A data.frame: 10 x 1</caption>\n",
       "<thead>\n",
       "\t<tr><th scope=col>r</th></tr>\n",
       "\t<tr><th scope=col>&lt;dbl&gt;</th></tr>\n",
       "</thead>\n",
       "<tbody>\n",
       "\t<tr><td>0.75</td></tr>\n",
       "\t<tr><td>0.75</td></tr>\n",
       "\t<tr><td>0.75</td></tr>\n",
       "\t<tr><td>0.75</td></tr>\n",
       "\t<tr><td>0.75</td></tr>\n",
       "\t<tr><td>0.75</td></tr>\n",
       "\t<tr><td>0.75</td></tr>\n",
       "\t<tr><td>0.75</td></tr>\n",
       "\t<tr><td>0.75</td></tr>\n",
       "\t<tr><td>0.75</td></tr>\n",
       "</tbody>\n",
       "</table>\n"
      ],
      "text/latex": [
       "A data.frame: 10 x 1\n",
       "\\begin{tabular}{l}\n",
       " r\\\\\n",
       " <dbl>\\\\\n",
       "\\hline\n",
       "\t 0.75\\\\\n",
       "\t 0.75\\\\\n",
       "\t 0.75\\\\\n",
       "\t 0.75\\\\\n",
       "\t 0.75\\\\\n",
       "\t 0.75\\\\\n",
       "\t 0.75\\\\\n",
       "\t 0.75\\\\\n",
       "\t 0.75\\\\\n",
       "\t 0.75\\\\\n",
       "\\end{tabular}\n"
      ],
      "text/markdown": [
       "\n",
       "A data.frame: 10 x 1\n",
       "\n",
       "| r &lt;dbl&gt; |\n",
       "|---|\n",
       "| 0.75 |\n",
       "| 0.75 |\n",
       "| 0.75 |\n",
       "| 0.75 |\n",
       "| 0.75 |\n",
       "| 0.75 |\n",
       "| 0.75 |\n",
       "| 0.75 |\n",
       "| 0.75 |\n",
       "| 0.75 |\n",
       "\n"
      ],
      "text/plain": [
       "   r   \n",
       "1  0.75\n",
       "2  0.75\n",
       "3  0.75\n",
       "4  0.75\n",
       "5  0.75\n",
       "6  0.75\n",
       "7  0.75\n",
       "8  0.75\n",
       "9  0.75\n",
       "10 0.75"
      ]
     },
     "metadata": {},
     "output_type": "display_data"
    }
   ],
   "source": [
    "df <- data.frame( r = rep(0.75, 10))\n",
    "df"
   ]
  },
  {
   "cell_type": "code",
   "execution_count": 15,
   "id": "7c9abdb7",
   "metadata": {
    "vscode": {
     "languageId": "r"
    }
   },
   "outputs": [
    {
     "data": {
      "text/html": [
       "<table class=\"dataframe\">\n",
       "<caption>A data.frame: 10 x 2</caption>\n",
       "<thead>\n",
       "\t<tr><th scope=col>r</th><th scope=col>invr</th></tr>\n",
       "\t<tr><th scope=col>&lt;dbl&gt;</th><th scope=col>&lt;dbl&gt;</th></tr>\n",
       "</thead>\n",
       "<tbody>\n",
       "\t<tr><td>0.75</td><td>0.25</td></tr>\n",
       "\t<tr><td>0.75</td><td>0.25</td></tr>\n",
       "\t<tr><td>0.75</td><td>0.25</td></tr>\n",
       "\t<tr><td>0.75</td><td>0.25</td></tr>\n",
       "\t<tr><td>0.75</td><td>0.25</td></tr>\n",
       "\t<tr><td>0.75</td><td>0.25</td></tr>\n",
       "\t<tr><td>0.75</td><td>0.25</td></tr>\n",
       "\t<tr><td>0.75</td><td>0.25</td></tr>\n",
       "\t<tr><td>0.75</td><td>0.25</td></tr>\n",
       "\t<tr><td>0.75</td><td>0.25</td></tr>\n",
       "</tbody>\n",
       "</table>\n"
      ],
      "text/latex": [
       "A data.frame: 10 x 2\n",
       "\\begin{tabular}{ll}\n",
       " r & invr\\\\\n",
       " <dbl> & <dbl>\\\\\n",
       "\\hline\n",
       "\t 0.75 & 0.25\\\\\n",
       "\t 0.75 & 0.25\\\\\n",
       "\t 0.75 & 0.25\\\\\n",
       "\t 0.75 & 0.25\\\\\n",
       "\t 0.75 & 0.25\\\\\n",
       "\t 0.75 & 0.25\\\\\n",
       "\t 0.75 & 0.25\\\\\n",
       "\t 0.75 & 0.25\\\\\n",
       "\t 0.75 & 0.25\\\\\n",
       "\t 0.75 & 0.25\\\\\n",
       "\\end{tabular}\n"
      ],
      "text/markdown": [
       "\n",
       "A data.frame: 10 x 2\n",
       "\n",
       "| r &lt;dbl&gt; | invr &lt;dbl&gt; |\n",
       "|---|---|\n",
       "| 0.75 | 0.25 |\n",
       "| 0.75 | 0.25 |\n",
       "| 0.75 | 0.25 |\n",
       "| 0.75 | 0.25 |\n",
       "| 0.75 | 0.25 |\n",
       "| 0.75 | 0.25 |\n",
       "| 0.75 | 0.25 |\n",
       "| 0.75 | 0.25 |\n",
       "| 0.75 | 0.25 |\n",
       "| 0.75 | 0.25 |\n",
       "\n"
      ],
      "text/plain": [
       "   r    invr\n",
       "1  0.75 0.25\n",
       "2  0.75 0.25\n",
       "3  0.75 0.25\n",
       "4  0.75 0.25\n",
       "5  0.75 0.25\n",
       "6  0.75 0.25\n",
       "7  0.75 0.25\n",
       "8  0.75 0.25\n",
       "9  0.75 0.25\n",
       "10 0.75 0.25"
      ]
     },
     "metadata": {},
     "output_type": "display_data"
    }
   ],
   "source": [
    "df$invr <- 1 - df$r\n",
    "df"
   ]
  },
  {
   "cell_type": "code",
   "execution_count": 17,
   "id": "634c737b",
   "metadata": {
    "vscode": {
     "languageId": "r"
    }
   },
   "outputs": [
    {
     "data": {
      "text/html": [
       "<table class=\"dataframe\">\n",
       "<caption>A data.frame: 10 x 3</caption>\n",
       "<thead>\n",
       "\t<tr><th scope=col>r</th><th scope=col>invr</th><th scope=col>cumprodr</th></tr>\n",
       "\t<tr><th scope=col>&lt;dbl&gt;</th><th scope=col>&lt;dbl&gt;</th><th scope=col>&lt;dbl&gt;</th></tr>\n",
       "</thead>\n",
       "<tbody>\n",
       "\t<tr><td>0.75</td><td>0.25</td><td>0.75000000</td></tr>\n",
       "\t<tr><td>0.75</td><td>0.25</td><td>0.56250000</td></tr>\n",
       "\t<tr><td>0.75</td><td>0.25</td><td>0.42187500</td></tr>\n",
       "\t<tr><td>0.75</td><td>0.25</td><td>0.31640625</td></tr>\n",
       "\t<tr><td>0.75</td><td>0.25</td><td>0.23730469</td></tr>\n",
       "\t<tr><td>0.75</td><td>0.25</td><td>0.17797852</td></tr>\n",
       "\t<tr><td>0.75</td><td>0.25</td><td>0.13348389</td></tr>\n",
       "\t<tr><td>0.75</td><td>0.25</td><td>0.10011292</td></tr>\n",
       "\t<tr><td>0.75</td><td>0.25</td><td>0.07508469</td></tr>\n",
       "\t<tr><td>0.75</td><td>0.25</td><td>0.05631351</td></tr>\n",
       "</tbody>\n",
       "</table>\n"
      ],
      "text/latex": [
       "A data.frame: 10 x 3\n",
       "\\begin{tabular}{lll}\n",
       " r & invr & cumprodr\\\\\n",
       " <dbl> & <dbl> & <dbl>\\\\\n",
       "\\hline\n",
       "\t 0.75 & 0.25 & 0.75000000\\\\\n",
       "\t 0.75 & 0.25 & 0.56250000\\\\\n",
       "\t 0.75 & 0.25 & 0.42187500\\\\\n",
       "\t 0.75 & 0.25 & 0.31640625\\\\\n",
       "\t 0.75 & 0.25 & 0.23730469\\\\\n",
       "\t 0.75 & 0.25 & 0.17797852\\\\\n",
       "\t 0.75 & 0.25 & 0.13348389\\\\\n",
       "\t 0.75 & 0.25 & 0.10011292\\\\\n",
       "\t 0.75 & 0.25 & 0.07508469\\\\\n",
       "\t 0.75 & 0.25 & 0.05631351\\\\\n",
       "\\end{tabular}\n"
      ],
      "text/markdown": [
       "\n",
       "A data.frame: 10 x 3\n",
       "\n",
       "| r &lt;dbl&gt; | invr &lt;dbl&gt; | cumprodr &lt;dbl&gt; |\n",
       "|---|---|---|\n",
       "| 0.75 | 0.25 | 0.75000000 |\n",
       "| 0.75 | 0.25 | 0.56250000 |\n",
       "| 0.75 | 0.25 | 0.42187500 |\n",
       "| 0.75 | 0.25 | 0.31640625 |\n",
       "| 0.75 | 0.25 | 0.23730469 |\n",
       "| 0.75 | 0.25 | 0.17797852 |\n",
       "| 0.75 | 0.25 | 0.13348389 |\n",
       "| 0.75 | 0.25 | 0.10011292 |\n",
       "| 0.75 | 0.25 | 0.07508469 |\n",
       "| 0.75 | 0.25 | 0.05631351 |\n",
       "\n"
      ],
      "text/plain": [
       "   r    invr cumprodr  \n",
       "1  0.75 0.25 0.75000000\n",
       "2  0.75 0.25 0.56250000\n",
       "3  0.75 0.25 0.42187500\n",
       "4  0.75 0.25 0.31640625\n",
       "5  0.75 0.25 0.23730469\n",
       "6  0.75 0.25 0.17797852\n",
       "7  0.75 0.25 0.13348389\n",
       "8  0.75 0.25 0.10011292\n",
       "9  0.75 0.25 0.07508469\n",
       "10 0.75 0.25 0.05631351"
      ]
     },
     "metadata": {},
     "output_type": "display_data"
    }
   ],
   "source": [
    "df$cumprodr <- cumprod(df$r)\n",
    "df"
   ]
  },
  {
   "cell_type": "code",
   "execution_count": 33,
   "id": "0c35d6c2",
   "metadata": {
    "vscode": {
     "languageId": "r"
    }
   },
   "outputs": [],
   "source": [
    "library(ggplot2)\n",
    "r = df$cumprodr"
   ]
  },
  {
   "cell_type": "code",
   "execution_count": 51,
   "id": "4c773caf",
   "metadata": {
    "vscode": {
     "languageId": "r"
    }
   },
   "outputs": [
    {
     "name": "stderr",
     "output_type": "stream",
     "text": [
      "instalowanie dodatkowych zalezno'sci 'Rcpp'\n",
      "\n",
      "\n"
     ]
    },
    {
     "name": "stdout",
     "output_type": "stream",
     "text": [
      "\n",
      "Pobrane pakiety binarne sa w\n",
      "\t/var/folders/7g/57qghjmj7x3ft0pqvb_k6lcw0000gn/T//RtmpV95Zig/downloaded_packages\n"
     ]
    }
   ],
   "source": [
    "install.packages(\"ggrepel\")\n",
    "library(ggrepel)\n"
   ]
  },
  {
   "cell_type": "code",
   "execution_count": 54,
   "id": "f53a8b55",
   "metadata": {
    "vscode": {
     "languageId": "r"
    }
   },
   "outputs": [
    {
     "name": "stderr",
     "output_type": "stream",
     "text": [
      "Warning message:\n",
      "\"\u001b[1m\u001b[22mUse of `df$cumprodr` is discouraged.\n",
      "\u001b[36mi\u001b[39m Use `cumprodr` instead.\"\n",
      "Warning message:\n",
      "\"\u001b[1m\u001b[22mUse of `df$cumprodr` is discouraged.\n",
      "\u001b[36mi\u001b[39m Use `cumprodr` instead.\"\n",
      "Warning message:\n",
      "\"\u001b[1m\u001b[22mUse of `df$cumprodr` is discouraged.\n",
      "\u001b[36mi\u001b[39m Use `cumprodr` instead.\"\n",
      "Warning message:\n",
      "\"\u001b[1m\u001b[22mUse of `df$cumprodr` is discouraged.\n",
      "\u001b[36mi\u001b[39m Use `cumprodr` instead.\"\n",
      "Warning message:\n",
      "\"\u001b[1m\u001b[22mUse of `df$cumprodr` is discouraged.\n",
      "\u001b[36mi\u001b[39m Use `cumprodr` instead.\"\n",
      "Warning message:\n",
      "\"\u001b[1m\u001b[22mUse of `df$cumprodr` is discouraged.\n",
      "\u001b[36mi\u001b[39m Use `cumprodr` instead.\"\n",
      "Warning message:\n",
      "\"\u001b[1m\u001b[22mUse of `df$cumprodr` is discouraged.\n",
      "\u001b[36mi\u001b[39m Use `cumprodr` instead.\"\n"
     ]
    },
    {
     "data": {
      "image/png": "[encoded data removed]",
      "text/plain": [
       "plot without title"
      ]
     },
     "metadata": {
      "image/png": {
       "height": 420,
       "width": 420
      }
     },
     "output_type": "display_data"
    }
   ],
   "source": [
    "ggplot(df, aes(x = seq_along(df$cumprodr), y = df$cumprodr)) +\n",
    "    geom_line() +\n",
    "    geom_point() +\n",
    "    geom_label_repel(aes(label = sprintf(\"%.2f\", df$cumprodr))) +\n",
    "    theme_minimal() +\n",
    "    labs(\n",
    "        title = \"Simple Line Plot\",\n",
    "        x = \"X axis\",\n",
    "        y = \"Y axis\"\n",
    "    )\n"
   ]
  },
  {
   "cell_type": "code",
   "execution_count": 35,
   "id": "d0dfdf55",
   "metadata": {
    "vscode": {
     "languageId": "r"
    }
   },
   "outputs": [
    {
     "data": {
      "text/html": [
       "<style>\n",
       ".list-inline {list-style: none; margin:0; padding: 0}\n",
       ".list-inline>li {display: inline-block}\n",
       ".list-inline>li:not(:last-child)::after {content: \"\\00b7\"; padding: 0 .5ex}\n",
       "</style>\n",
       "<ol class=list-inline><li>0.75</li><li>0.5625</li><li>0.421875</li><li>0.31640625</li><li>0.2373046875</li><li>0.177978515625</li><li>0.13348388671875</li><li>0.100112915039062</li><li>0.0750846862792969</li><li>0.0563135147094727</li></ol>\n"
      ],
      "text/latex": [
       "\\begin{enumerate*}\n",
       "\\item 0.75\n",
       "\\item 0.5625\n",
       "\\item 0.421875\n",
       "\\item 0.31640625\n",
       "\\item 0.2373046875\n",
       "\\item 0.177978515625\n",
       "\\item 0.13348388671875\n",
       "\\item 0.100112915039062\n",
       "\\item 0.0750846862792969\n",
       "\\item 0.0563135147094727\n",
       "\\end{enumerate*}\n"
      ],
      "text/markdown": [
       "1. 0.75\n",
       "2. 0.5625\n",
       "3. 0.421875\n",
       "4. 0.31640625\n",
       "5. 0.2373046875\n",
       "6. 0.177978515625\n",
       "7. 0.13348388671875\n",
       "8. 0.100112915039062\n",
       "9. 0.0750846862792969\n",
       "10. 0.0563135147094727\n",
       "\n",
       "\n"
      ],
      "text/plain": [
       " [1] 0.75000000 0.56250000 0.42187500 0.31640625 0.23730469 0.17797852\n",
       " [7] 0.13348389 0.10011292 0.07508469 0.05631351"
      ]
     },
     "metadata": {},
     "output_type": "display_data"
    }
   ],
   "source": [
    "r"
   ]
  }
 ],
 "metadata": {
  "kernelspec": {
   "display_name": "R",
   "language": "R",
   "name": "ir"
  },
  "language_info": {
   "codemirror_mode": "r",
   "file_extension": ".r",
   "mimetype": "text/x-r-source",
   "name": "R",
   "pygments_lexer": "r",
   "version": "4.3.3"
  }
 },
 "nbformat": 4,
 "nbformat_minor": 5
}
