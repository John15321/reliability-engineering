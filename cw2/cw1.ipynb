{
 "cells": [
  {
   "cell_type": "markdown",
   "metadata": {},
   "source": [
    "# Niezawodność systemów\n",
    "\n",
    "Jak relacje między elemenatami wpływają na niezawodność systemu?\n",
    "\n",
    "R(t) - jakie jest prawdopodobieństwo ze jakiś element przezyje\n",
    "\n",
    "F(t) - jakie jest prawdopodobieństwo ze dany element sie zepsuje"
   ]
  },
  {
   "cell_type": "code",
   "execution_count": 2,
   "metadata": {},
   "outputs": [],
   "source": [
    "import numpy as np\n",
    "import pandas as pd\n",
    "import matplotlib.pyplot as plt"
   ]
  },
  {
   "cell_type": "markdown",
   "metadata": {},
   "source": [
    "\n",
    "## Zad. 1. \n",
    "System o szeregowej strukturze niezawodnosciowel sklada sie z 3 elementów. \n",
    "\n",
    "Dla rozpatrywanego czasu t (np. 2 lata) niezawodnosc kazdego z jego elementów wynosi odpowiednio: R1=0,95, R2=0,92, R3=0,9. Uzupełnij zdania.:\n",
    "Niezawodnosc systemu wynosi 0.7866\n",
    "\n"
   ]
  },
  {
   "cell_type": "code",
   "execution_count": 8,
   "metadata": {},
   "outputs": [
    {
     "data": {
      "text/plain": [
       "array([0.95, 0.92, 0.9 ])"
      ]
     },
     "execution_count": 8,
     "metadata": {},
     "output_type": "execute_result"
    }
   ],
   "source": [
    "probs = np.array(\n",
    "    [\n",
    "        0.95,\n",
    "        0.92,\n",
    "        0.9,\n",
    "    ]\n",
    ")\n",
    "probs"
   ]
  },
  {
   "cell_type": "code",
   "execution_count": 10,
   "metadata": {},
   "outputs": [
    {
     "data": {
      "text/plain": [
       "0.7866"
      ]
     },
     "execution_count": 10,
     "metadata": {},
     "output_type": "execute_result"
    }
   ],
   "source": [
    "probs.prod()"
   ]
  },
  {
   "cell_type": "code",
   "execution_count": 20,
   "metadata": {},
   "outputs": [
    {
     "data": {
      "text/plain": [
       "0.21340000000000003"
      ]
     },
     "execution_count": 20,
     "metadata": {},
     "output_type": "execute_result"
    }
   ],
   "source": [
    "1 - probs.prod()"
   ]
  },
  {
   "cell_type": "markdown",
   "metadata": {},
   "source": [
    "Dla 100 takich systemów, ok. `21,34` z nich przypuszczalnie stanie sie niezdatna w rozpatrywanym czasie.\n",
    "Gdyby system cechowal sie równolegla struktura niezawodnosciowa, jego niezawodnosé wynositaby `0.9996`."
   ]
  },
  {
   "cell_type": "code",
   "execution_count": 16,
   "metadata": {},
   "outputs": [
    {
     "data": {
      "text/html": [
       "<div>\n",
       "<style scoped>\n",
       "    .dataframe tbody tr th:only-of-type {\n",
       "        vertical-align: middle;\n",
       "    }\n",
       "\n",
       "    .dataframe tbody tr th {\n",
       "        vertical-align: top;\n",
       "    }\n",
       "\n",
       "    .dataframe thead th {\n",
       "        text-align: right;\n",
       "    }\n",
       "</style>\n",
       "<table border=\"1\" class=\"dataframe\">\n",
       "  <thead>\n",
       "    <tr style=\"text-align: right;\">\n",
       "      <th></th>\n",
       "      <th>niezawodnosc</th>\n",
       "    </tr>\n",
       "  </thead>\n",
       "  <tbody>\n",
       "    <tr>\n",
       "      <th>0</th>\n",
       "      <td>0.95</td>\n",
       "    </tr>\n",
       "    <tr>\n",
       "      <th>1</th>\n",
       "      <td>0.92</td>\n",
       "    </tr>\n",
       "    <tr>\n",
       "      <th>2</th>\n",
       "      <td>0.90</td>\n",
       "    </tr>\n",
       "  </tbody>\n",
       "</table>\n",
       "</div>"
      ],
      "text/plain": [
       "   niezawodnosc\n",
       "0          0.95\n",
       "1          0.92\n",
       "2          0.90"
      ]
     },
     "execution_count": 16,
     "metadata": {},
     "output_type": "execute_result"
    }
   ],
   "source": [
    "niezapd = pd.DataFrame(probs, columns=[\"niezawodnosc\"])\n",
    "niezapd"
   ]
  },
  {
   "cell_type": "code",
   "execution_count": 19,
   "metadata": {},
   "outputs": [
    {
     "data": {
      "text/plain": [
       "0.9996"
      ]
     },
     "execution_count": 19,
     "metadata": {},
     "output_type": "execute_result"
    }
   ],
   "source": [
    "1-(1-niezapd['niezawodnosc']).prod()"
   ]
  },
  {
   "cell_type": "markdown",
   "metadata": {},
   "source": [
    "## Zad. 2.\n",
    "System sklada sie z n jednakowych elementów. Dla rozpatrywanego czasu t, niezawodnosé kazdego z nich wynosi 0,75. Rozpatrz rózne liczbe elementów (od 2 do 10) i zbadaj zaleznosé niezawodnosci systergu od liczbv iego elementów skladowych. Uzupelnij tabele, narysuj wykresy i uzupeinij zdania.\n",
    "- (a) system o szeregowej strukturze niezawodnosciowej (tabela+wykres+komentarz)\n",
    "\n",
    "Wraz ze wzrostem liczby elementów, niezawodnosé systemu o strukturze szeregowej niezawodność systemu spada\n"
   ]
  },
  {
   "cell_type": "code",
   "execution_count": 30,
   "metadata": {},
   "outputs": [
    {
     "data": {
      "text/html": [
       "<div>\n",
       "<style scoped>\n",
       "    .dataframe tbody tr th:only-of-type {\n",
       "        vertical-align: middle;\n",
       "    }\n",
       "\n",
       "    .dataframe tbody tr th {\n",
       "        vertical-align: top;\n",
       "    }\n",
       "\n",
       "    .dataframe thead th {\n",
       "        text-align: right;\n",
       "    }\n",
       "</style>\n",
       "<table border=\"1\" class=\"dataframe\">\n",
       "  <thead>\n",
       "    <tr style=\"text-align: right;\">\n",
       "      <th></th>\n",
       "      <th>r</th>\n",
       "      <th>invr</th>\n",
       "    </tr>\n",
       "  </thead>\n",
       "  <tbody>\n",
       "    <tr>\n",
       "      <th>0</th>\n",
       "      <td>0.75</td>\n",
       "      <td>0.25</td>\n",
       "    </tr>\n",
       "    <tr>\n",
       "      <th>1</th>\n",
       "      <td>0.75</td>\n",
       "      <td>0.25</td>\n",
       "    </tr>\n",
       "    <tr>\n",
       "      <th>2</th>\n",
       "      <td>0.75</td>\n",
       "      <td>0.25</td>\n",
       "    </tr>\n",
       "    <tr>\n",
       "      <th>3</th>\n",
       "      <td>0.75</td>\n",
       "      <td>0.25</td>\n",
       "    </tr>\n",
       "    <tr>\n",
       "      <th>4</th>\n",
       "      <td>0.75</td>\n",
       "      <td>0.25</td>\n",
       "    </tr>\n",
       "    <tr>\n",
       "      <th>5</th>\n",
       "      <td>0.75</td>\n",
       "      <td>0.25</td>\n",
       "    </tr>\n",
       "    <tr>\n",
       "      <th>6</th>\n",
       "      <td>0.75</td>\n",
       "      <td>0.25</td>\n",
       "    </tr>\n",
       "    <tr>\n",
       "      <th>7</th>\n",
       "      <td>0.75</td>\n",
       "      <td>0.25</td>\n",
       "    </tr>\n",
       "    <tr>\n",
       "      <th>8</th>\n",
       "      <td>0.75</td>\n",
       "      <td>0.25</td>\n",
       "    </tr>\n",
       "    <tr>\n",
       "      <th>9</th>\n",
       "      <td>0.75</td>\n",
       "      <td>0.25</td>\n",
       "    </tr>\n",
       "  </tbody>\n",
       "</table>\n",
       "</div>"
      ],
      "text/plain": [
       "      r  invr\n",
       "0  0.75  0.25\n",
       "1  0.75  0.25\n",
       "2  0.75  0.25\n",
       "3  0.75  0.25\n",
       "4  0.75  0.25\n",
       "5  0.75  0.25\n",
       "6  0.75  0.25\n",
       "7  0.75  0.25\n",
       "8  0.75  0.25\n",
       "9  0.75  0.25"
      ]
     },
     "execution_count": 30,
     "metadata": {},
     "output_type": "execute_result"
    }
   ],
   "source": [
    "df = pd.DataFrame(np.array([0.75] * 10), columns=[\"r\"])\n",
    "df[\"invr\"] = 1 - df[\"r\"]\n",
    "df"
   ]
  },
  {
   "cell_type": "code",
   "execution_count": 32,
   "metadata": {},
   "outputs": [
    {
     "data": {
      "text/html": [
       "<div>\n",
       "<style scoped>\n",
       "    .dataframe tbody tr th:only-of-type {\n",
       "        vertical-align: middle;\n",
       "    }\n",
       "\n",
       "    .dataframe tbody tr th {\n",
       "        vertical-align: top;\n",
       "    }\n",
       "\n",
       "    .dataframe thead th {\n",
       "        text-align: right;\n",
       "    }\n",
       "</style>\n",
       "<table border=\"1\" class=\"dataframe\">\n",
       "  <thead>\n",
       "    <tr style=\"text-align: right;\">\n",
       "      <th></th>\n",
       "      <th>r</th>\n",
       "      <th>invr</th>\n",
       "    </tr>\n",
       "  </thead>\n",
       "  <tbody>\n",
       "    <tr>\n",
       "      <th>0</th>\n",
       "      <td>0.750000</td>\n",
       "      <td>2.500000e-01</td>\n",
       "    </tr>\n",
       "    <tr>\n",
       "      <th>1</th>\n",
       "      <td>0.562500</td>\n",
       "      <td>6.250000e-02</td>\n",
       "    </tr>\n",
       "    <tr>\n",
       "      <th>2</th>\n",
       "      <td>0.421875</td>\n",
       "      <td>1.562500e-02</td>\n",
       "    </tr>\n",
       "    <tr>\n",
       "      <th>3</th>\n",
       "      <td>0.316406</td>\n",
       "      <td>3.906250e-03</td>\n",
       "    </tr>\n",
       "    <tr>\n",
       "      <th>4</th>\n",
       "      <td>0.237305</td>\n",
       "      <td>9.765625e-04</td>\n",
       "    </tr>\n",
       "    <tr>\n",
       "      <th>5</th>\n",
       "      <td>0.177979</td>\n",
       "      <td>2.441406e-04</td>\n",
       "    </tr>\n",
       "    <tr>\n",
       "      <th>6</th>\n",
       "      <td>0.133484</td>\n",
       "      <td>6.103516e-05</td>\n",
       "    </tr>\n",
       "    <tr>\n",
       "      <th>7</th>\n",
       "      <td>0.100113</td>\n",
       "      <td>1.525879e-05</td>\n",
       "    </tr>\n",
       "    <tr>\n",
       "      <th>8</th>\n",
       "      <td>0.075085</td>\n",
       "      <td>3.814697e-06</td>\n",
       "    </tr>\n",
       "    <tr>\n",
       "      <th>9</th>\n",
       "      <td>0.056314</td>\n",
       "      <td>9.536743e-07</td>\n",
       "    </tr>\n",
       "  </tbody>\n",
       "</table>\n",
       "</div>"
      ],
      "text/plain": [
       "          r          invr\n",
       "0  0.750000  2.500000e-01\n",
       "1  0.562500  6.250000e-02\n",
       "2  0.421875  1.562500e-02\n",
       "3  0.316406  3.906250e-03\n",
       "4  0.237305  9.765625e-04\n",
       "5  0.177979  2.441406e-04\n",
       "6  0.133484  6.103516e-05\n",
       "7  0.100113  1.525879e-05\n",
       "8  0.075085  3.814697e-06\n",
       "9  0.056314  9.536743e-07"
      ]
     },
     "execution_count": 32,
     "metadata": {},
     "output_type": "execute_result"
    }
   ],
   "source": [
    "df.cumprod()"
   ]
  },
  {
   "cell_type": "code",
   "execution_count": 35,
   "metadata": {},
   "outputs": [
    {
     "data": {
      "image/png": "[encoded data removed]",
      "text/plain": [
       "<Figure size 640x480 with 1 Axes>"
      ]
     },
     "metadata": {},
     "output_type": "display_data"
    }
   ],
   "source": [
    "plt.plot(df[\"r\"].cumprod(), 'o-')\n",
    "plt.grid(True)\n",
    "plt.xlabel(\"Liczba elementów\")\n",
    "plt.ylabel(\"Niezawodność systemu\")\n",
    "plt.title(\"WYkres niezawodności systemu od liczby elementów w strukturze szeregowej\")\n",
    "plt.show()"
   ]
  },
  {
   "cell_type": "markdown",
   "metadata": {},
   "source": [
    "- (b) system o równolegtej strukturze niezawodnosciowej (tabela+wykres+komentarz)\n",
    "    - tabela i wykres zgodnie z przyktadem z podpunktu a\n",
    "Wraz ze wzrostem liczby elementów, niezawodnosé systemu o strukturze równoleglej wzrasta wraz z liczba elementow"
   ]
  },
  {
   "cell_type": "code",
   "execution_count": 36,
   "metadata": {},
   "outputs": [
    {
     "data": {
      "image/png": "[encoded data removed]",
      "text/plain": [
       "<Figure size 640x480 with 1 Axes>"
      ]
     },
     "metadata": {},
     "output_type": "display_data"
    }
   ],
   "source": [
    "plt.plot(1 - df[\"invr\"].cumprod(), \"o-\")\n",
    "plt.grid(True)\n",
    "plt.xlabel(\"Liczba elementów\")\n",
    "plt.ylabel(\"Niezawodność systemu\")\n",
    "plt.title(\"WYkres niezawodności systemu od liczby elementów w strukturze równoległej\")\n",
    "plt.show()"
   ]
  },
  {
   "cell_type": "markdown",
   "metadata": {},
   "source": [
    "## Zad. 3.\n",
    "Wyznacz niezawodnosé systemu majacego strukture przedstawiona na schemacie ponizej. Dla rozpatrywanego\n",
    "czasu t, niezawodnosé poszczególnych elementów wynosi: R,=0,5,F2=0,7, Fg=0,85, R,=0,9, Rg=0,95.\n",
    "Niezawodnosé systemu wynosi UZUPELNIC. [Prawidtowy wynik to ok.0,72)\n",
    "Dla 100 takich systemów, UZUPELNIC z nich przypuszczalnie bedzie zdatna po czasie t"
   ]
  },
  {
   "cell_type": "code",
   "execution_count": null,
   "metadata": {},
   "outputs": [],
   "source": []
  },
  {
   "cell_type": "markdown",
   "metadata": {},
   "source": [
    "# II. ZADANIA cz.2\n",
    "## Zad. 4. \n",
    "System sktada sie z 6 jednakowych elementów. Rozpatrz strukture szeregowo-równolegta i równolegto-szeregowa\n",
    "(dwa takie same podsystemy i kazdy z trzema identycznymi elementami, pomocniczy rysunek ponizej). Porównaj\n",
    "niezawodnosé systemu dla jednej i drugiej struktury przyjmujac rózna niezawodnosé elementów sktadowych. Przyktad:\n",
    "Kazdy element ma niezawodnosé 0,3. Licze niezawodnosc systemu dla jednej i drugiej struktury.\n",
    "ZAWODNOSC SYSTEMU Rs(t)\n",
    "wrownole ia (struktura rownolegio-Szereg\n",
    "prawidtowy wynik: 0,05\n",
    "tabela+wykres+komentarz\n",
    "Systemy o strukturze UZUPELNIÉ sa bardziej niezawodne.\n",
    "RÓWNOLEGLO-SZEREGOWA\n"
   ]
  },
  {
   "cell_type": "markdown",
   "metadata": {},
   "source": [
    "## Zad. 5.\n",
    "System cechuje sie struktura progowe 2z3 (przynaimniej 2 23 elementów musze byó zdatne). Sktada sie z trzech\n",
    "takich samych elementów, kazdy ma niezawodnosé 0,7. Oblicz niezawodnost systemu.\n",
    "[mozna obliczyé na kartce]\n",
    "Niezawodnosé systemu wynosi UZUPELNIC"
   ]
  }
 ],
 "metadata": {
  "kernelspec": {
   "display_name": "venv",
   "language": "python",
   "name": "python3"
  },
  "language_info": {
   "codemirror_mode": {
    "name": "ipython",
    "version": 3
   },
   "file_extension": ".py",
   "mimetype": "text/x-python",
   "name": "python",
   "nbconvert_exporter": "python",
   "pygments_lexer": "ipython3",
   "version": "3.11.0"
  }
 },
 "nbformat": 4,
 "nbformat_minor": 2
}
